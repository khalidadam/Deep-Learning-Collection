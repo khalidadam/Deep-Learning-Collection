{
 "cells": [
  {
   "cell_type": "code",
   "execution_count": 152,
   "id": "03fc548a",
   "metadata": {},
   "outputs": [],
   "source": [
    "import torch\n",
    "from torch.utils.data import Dataset, DataLoader\n",
    "import torchvision\n",
    "from torch import nn\n",
    "import torch.nn.functional as F\n",
    "import os \n",
    "from torchvision import transforms\n",
    "from tqdm import tqdm\n",
    "\n",
    "transform = transforms.Compose([\n",
    "    transforms.Resize((32, 32)),\n",
    "    transforms.ToTensor()\n",
    "])\n",
    "\n",
    "path = os.getcwd()\n",
    "train_data = torchvision.datasets.MNIST(path, download = True, train = True, transform = transforms.Compose([transforms.Pad(2), transforms.ToTensor()]))\n",
    "test_data = torchvision.datasets.MNIST(path, download = True, train = False, transform = transforms.Compose([transforms.Pad(2), transforms.ToTensor()]))\n",
    "train_loader = DataLoader(dataset=train_data, batch_size = 16, shuffle=True)\n",
    "test_loader = DataLoader(dataset=test_data, batch_size = 16, shuffle=True)"
   ]
  },
  {
   "cell_type": "code",
   "execution_count": 153,
   "id": "2afece06",
   "metadata": {
    "scrolled": true
   },
   "outputs": [
    {
     "name": "stdout",
     "output_type": "stream",
     "text": [
      "LeNet(\n",
      "  (c1): Conv2d(1, 6, kernel_size=(5, 5), stride=(1, 1))\n",
      "  (c2): Conv2d(6, 16, kernel_size=(5, 5), stride=(1, 1))\n",
      "  (fc1): Linear(in_features=400, out_features=120, bias=True)\n",
      "  (fc2): Linear(in_features=120, out_features=84, bias=True)\n",
      "  (fc3): Linear(in_features=84, out_features=10, bias=True)\n",
      ")\n"
     ]
    },
    {
     "data": {
      "text/plain": [
       "torch.Size([16, 10])"
      ]
     },
     "execution_count": 153,
     "metadata": {},
     "output_type": "execute_result"
    }
   ],
   "source": [
    "class LeNet(nn.Module):\n",
    "    def __init__(self):\n",
    "        super(LeNet, self).__init__()\n",
    "        \n",
    "        self.c1 = nn.Conv2d(in_channels = 1,out_channels = 6,kernel_size = 5, stride = 1, padding = 0)\n",
    "        self.c2 = nn.Conv2d(in_channels = 6,out_channels = 16,kernel_size = 5, stride = 1, padding = 0)\n",
    "        self.fc1 = nn.Linear(in_features = 16*5*5, out_features = 120)\n",
    "        self.fc2 = nn.Linear(in_features = 120, out_features = 84)\n",
    "        self.fc3 = nn.Linear(in_features = 84, out_features = 10)\n",
    "    \n",
    "    def forward(self,x):\n",
    "        x = F.avg_pool2d(F.tanh(self.c1(x)), kernel_size = 2, stride = 2, padding = 0)\n",
    "        x = F.avg_pool2d(F.tanh(self.c2(x)), kernel_size = 2, stride = 2, padding = 0)\n",
    "        x = torch.flatten(x,1)\n",
    "        x = F.tanh(self.fc1(x))\n",
    "        x = F.tanh(self.fc2(x))\n",
    "        x = self.fc3(x).float()\n",
    "        x = F.log_softmax(x, dim = 1)\n",
    "        # torch.argmax(x, dim = 1)\n",
    "         \n",
    "        return x \n",
    "        \n",
    "leNet = LeNet()\n",
    "print(leNet)\n",
    "leNet(next(iter(train_loader))[0]/255).shape"
   ]
  },
  {
   "cell_type": "code",
   "execution_count": null,
   "id": "c7c71b2a",
   "metadata": {},
   "outputs": [
    {
     "name": "stderr",
     "output_type": "stream",
     "text": [
      "\n",
      "\n",
      "\n",
      "\n",
      "\n",
      "\n",
      "\n",
      "\n",
      "\n",
      "\n",
      "\n",
      "\n",
      "\n",
      "\n",
      "\n",
      "\n",
      "\n",
      "\n",
      "\n",
      " ... (more hidden) ...\u001b[A\u001b[A\u001b[A\u001b[A\u001b[A\u001b[A\u001b[A\u001b[A\u001b[A\u001b[A\u001b[A\u001b[A\u001b[A\u001b[A\u001b[A\u001b[A\u001b[A\u001b[A\u001b[A\n",
      "\n",
      "\n",
      "\n",
      "\n",
      "\n",
      "\n",
      "\n",
      "\n",
      "\n",
      "\n",
      "\n",
      "\n",
      "\n",
      "\n",
      "\n",
      "\n",
      "\n",
      "\n",
      " ... (more hidden) ...\u001b[A\u001b[A\u001b[A\u001b[A\u001b[A\u001b[A\u001b[A\u001b[A\u001b[A\u001b[A\u001b[A\u001b[A\u001b[A\u001b[A\u001b[A\u001b[A\u001b[A\u001b[A\u001b[A\n",
      "\n",
      "\n",
      "\n",
      "\n",
      "\n",
      "\n",
      "\n",
      "\n",
      "\n",
      "\n",
      "\n",
      "\n",
      "\n",
      "\n",
      "\n",
      "\n",
      "\n",
      "\n",
      " ... (more hidden) ...\u001b[A\u001b[A\u001b[A\u001b[A\u001b[A\u001b[A\u001b[A\u001b[A\u001b[A\u001b[A\u001b[A\u001b[A\u001b[A\u001b[A\u001b[A\u001b[A\u001b[A\u001b[A\u001b[A\n",
      "\n",
      "\n",
      "\n",
      "\n",
      "\n",
      "\n",
      "\n",
      "\n",
      "\n",
      "\n",
      "\n",
      "\n",
      "\n",
      "\n",
      "\n",
      "\n",
      "\n",
      "\n",
      " ... (more hidden) ...\u001b[A\u001b[A\u001b[A\u001b[A\u001b[A\u001b[A\u001b[A\u001b[A\u001b[A\u001b[A\u001b[A\u001b[A\u001b[A\u001b[A\u001b[A\u001b[A\u001b[A\u001b[A\u001b[A\n",
      "\n",
      "\n",
      "\n",
      "\n",
      "\n",
      "\n",
      "\n",
      "\n",
      "\n",
      "\n",
      "\n",
      "\n",
      "\n",
      "\n",
      "\n",
      "\n",
      "\n",
      "\n",
      " ... (more hidden) ...\u001b[A\u001b[A\u001b[A\u001b[A\u001b[A\u001b[A\u001b[A\u001b[A\u001b[A\u001b[A\u001b[A\u001b[A\u001b[A\u001b[A\u001b[A\u001b[A\u001b[A\u001b[A\u001b[A"
     ]
    }
   ],
   "source": [
    "class network:\n",
    "    def __init__(self,dataset,model,learning_rate = 1e-2):\n",
    "        self.dataset = dataset\n",
    "        self.model = model \n",
    "        self.lr = learning_rate\n",
    "        self.loss_function = nn.CrossEntropyLoss()\n",
    "        self.opt = torch.optim.SGD(self.model.parameters(), lr = self.lr)\n",
    "        self.loss_collection = []\n",
    "    \n",
    "    def train(self, epochs):\n",
    "        for epoch in tqdm(range(epochs)):\n",
    "            for inputs, targets in self.dataset:\n",
    "                outputs = self.model(inputs/255)\n",
    "                \n",
    "                loss = self.loss_function(outputs, targets.long())\n",
    "                self.model.zero_grad()\n",
    "                loss.backward()\n",
    "                self.opt.step()\n",
    "                \n",
    "                self.loss_collection.append(loss)\n",
    "                \n",
    "n = network(train_loader,LeNet())\n",
    "n.train(10)"
   ]
  },
  {
   "cell_type": "code",
   "execution_count": 151,
   "id": "c9e024fc",
   "metadata": {},
   "outputs": [
    {
     "name": "stderr",
     "output_type": "stream",
     "text": [
      "/Users/maciejbalawejder/opt/miniforge3/envs/tf24/lib/python3.8/site-packages/torch/nn/functional.py:1698: UserWarning: nn.functional.tanh is deprecated. Use torch.tanh instead.\n",
      "  warnings.warn(\"nn.functional.tanh is deprecated. Use torch.tanh instead.\")\n"
     ]
    },
    {
     "name": "stdout",
     "output_type": "stream",
     "text": [
      "71.125\n"
     ]
    }
   ],
   "source": [
    "import matplotlib.pyplot as plt \n",
    "\n",
    "acc = 0\n",
    "for x, y in test_loader:\n",
    "    output = torch.argmax(n.model(x), dim = 1)\n",
    "    acc += sum([1 for i in range(len(y)) if output[i] ==  y[i]]) / len(y)\n",
    "    \n",
    "print(acc)\n"
   ]
  }
 ],
 "metadata": {
  "kernelspec": {
   "display_name": "Python 3",
   "language": "python",
   "name": "python3"
  },
  "language_info": {
   "codemirror_mode": {
    "name": "ipython",
    "version": 3
   },
   "file_extension": ".py",
   "mimetype": "text/x-python",
   "name": "python",
   "nbconvert_exporter": "python",
   "pygments_lexer": "ipython3",
   "version": "3.8.6"
  }
 },
 "nbformat": 4,
 "nbformat_minor": 5
}
