{
 "cells": [
  {
   "cell_type": "code",
   "execution_count": 23,
   "id": "03fc548a",
   "metadata": {},
   "outputs": [],
   "source": [
    "import torch\n",
    "from torch.utils.data import Dataset, DataLoader\n",
    "import torchvision\n",
    "from torch import nn\n",
    "import os \n",
    "from torchvision import transforms\n",
    "\n",
    "transform = transforms.Compose([\n",
    "    transforms.ToTensor()\n",
    "])\n",
    "\n",
    "path = os.getcwd()\n",
    "train_data = torchvision.datasets.MNIST(path, download = True, train = True, transform = transform)\n",
    "test_data = torchvision.datasets.MNIST(path, download = True, train = True, transform = transform)"
   ]
  },
  {
   "cell_type": "code",
   "execution_count": 30,
   "id": "6f7cfc6a",
   "metadata": {},
   "outputs": [
    {
     "data": {
      "text/plain": [
       "torch.Size([60000, 28, 28])"
      ]
     },
     "execution_count": 30,
     "metadata": {},
     "output_type": "execute_result"
    }
   ],
   "source": [
    "train_data.data"
   ]
  },
  {
   "cell_type": "code",
   "execution_count": null,
   "id": "a62cb37c",
   "metadata": {},
   "outputs": [],
   "source": [
    "class LeNet(nn.Module):\n",
    "    def __init__(self):\n",
    "        super(LeNet, self).__init__()\n",
    "        \n",
    "        self.c1 = nn.Conv2D(6,6,kernel_size = 5)\n",
    "        self.a1 = nn.AvgPool2d()\n",
    "        self.c2 = nn.Conv2D(16,16,kernel_size = 5)\n",
    "        self.a2 = nn.AvgPool2d()\n",
    "        self.fc1 = nn.Linear(120)\n",
    "        self.fc2 = nn.Linear(84)\n",
    "        self.fc3 = nn.Linear(10)\n",
    "    "
   ]
  }
 ],
 "metadata": {
  "kernelspec": {
   "display_name": "Python 3",
   "language": "python",
   "name": "python3"
  },
  "language_info": {
   "codemirror_mode": {
    "name": "ipython",
    "version": 3
   },
   "file_extension": ".py",
   "mimetype": "text/x-python",
   "name": "python",
   "nbconvert_exporter": "python",
   "pygments_lexer": "ipython3",
   "version": "3.8.6"
  }
 },
 "nbformat": 4,
 "nbformat_minor": 5
}
