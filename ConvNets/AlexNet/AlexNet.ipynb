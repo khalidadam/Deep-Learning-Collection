{
  "nbformat": 4,
  "nbformat_minor": 0,
  "metadata": {
    "colab": {
      "name": "AlexNet",
      "provenance": []
    },
    "kernelspec": {
      "name": "python3",
      "display_name": "Python 3"
    },
    "language_info": {
      "name": "python"
    }
  },
  "cells": [
    {
      "cell_type": "code",
      "execution_count": 1,
      "metadata": {
        "id": "busz64Q0Hb-w"
      },
      "outputs": [],
      "source": [
        "import torch \n",
        "import torch.nn as nn"
      ]
    },
    {
      "cell_type": "code",
      "source": [
        "class AlexNet(nn.Module):\n",
        "    def __init__(self, in_channels=3, classes=1000):\n",
        "        super().__init__()\n",
        "        self.c1 = nn.Conv2d(in_channels=3, out_channels=96, kernel_size=11, stride=4, padding=0)\n",
        "        self.c2 = nn.Conv2d(in_channels=96, out_channels=256, kernel_size=5, stride=1, padding=2)\n",
        "        self.c3 = nn.Conv2d(in_channels=256, out_channels=384, kernel_size=3, stride=1, padding=1)\n",
        "        self.c4 = nn.Conv2d(in_channels=384, out_channels=384, kernel_size=3, stride=1, padding=1)\n",
        "        self.c5 = nn.Conv2d(in_channels=384, out_channels=256, kernel_size=3, stride=1, padding=1)\n",
        "\n",
        "        self.fc1 = nn.Linear(6*6*256, 4096)\n",
        "        self.fc2 = nn.Linear(4096, 4096)\n",
        "        self.fc3 = nn.Linear(4096, classes)\n",
        "\n",
        "        self.localnorm = nn.LocalResponseNorm(size=5)\n",
        "        self.maxpool = nn.MaxPool2d(kernel_size=3, stride=2)\n",
        "        self.relu = nn.ReLU(inplace=True)\n",
        "\n",
        "        self.init_weight()\n",
        "\n",
        "    def forward(self, x):\n",
        "        # x shape: [batch, 3, 227, 227]\n",
        "        x = self.relu(self.c1(x))\n",
        "        # x shape: [batch, 96, 55, 55]\n",
        "        x = self.maxpool(self.localnorm(x))\n",
        "        # x shape: [batch, 96, 27, 27]\n",
        "        x = self.relu(self.c2(x))\n",
        "        # x shape: [batch, 256, 27, 27]\n",
        "        x = self.maxpool(self.localnorm(x))\n",
        "        # x shape: [batch, 256, 13, 13]\n",
        "        x = self.relu(self.c3(x))\n",
        "        # x shape: [batch, 384, 13, 13]\n",
        "        x = self.relu(self.c4(x))\n",
        "        # x shape: [batch, 384, 13, 13]\n",
        "        x = self.maxpool(self.relu(self.c5(x)))\n",
        "        # x shape: [batch, 256, 6, 6]\n",
        "        x = torch.flatten(x,1)\n",
        "        # x shape: [batch, 256*6*6]\n",
        "        x = self.relu(self.fc1(x))\n",
        "        # x shape: [batch, 4096]\n",
        "        x = self.relu(self.fc2(x))\n",
        "        # x shape: [batch, 4096]\n",
        "        x = self.fc3(x)\n",
        "        # x shape: [batch, classes]\n",
        "        return x\n",
        "    \n",
        "    def init_weight(self):\n",
        "        bias = [1,3,4,5,6,7]\n",
        "        for i,layer in enumerate(self.modules()):\n",
        "            if layer is nn.Conv2d or layer is nn.Linear:\n",
        "                if i in bias:\n",
        "                    nn.init.constant_(layer.bias, 1)\n",
        "                else:\n",
        "                    nn.init.constant_(layer.bias, 0)\n",
        "                \n",
        "                nn.init.normal_(layer.weight, mean=0, std=1)"
      ],
      "metadata": {
        "id": "zVSgh4v0HhyU"
      },
      "execution_count": 25,
      "outputs": []
    },
    {
      "cell_type": "code",
      "source": [
        "net = AlexNet()\n",
        "net(torch.rand(32,3,227,227)).shape"
      ],
      "metadata": {
        "colab": {
          "base_uri": "https://localhost:8080/"
        },
        "id": "egAsGhmBKeId",
        "outputId": "d4312888-16b9-4a01-f30f-b5b5d0a2196b"
      },
      "execution_count": 27,
      "outputs": [
        {
          "output_type": "execute_result",
          "data": {
            "text/plain": [
              "torch.Size([32, 1000])"
            ]
          },
          "metadata": {},
          "execution_count": 27
        }
      ]
    }
  ]
}
